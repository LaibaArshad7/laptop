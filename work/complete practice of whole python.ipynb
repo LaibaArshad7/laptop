{
 "cells": [
  {
   "cell_type": "code",
   "execution_count": 1,
   "id": "d4c1c6ab",
   "metadata": {},
   "outputs": [
    {
     "name": "stdout",
     "output_type": "stream",
     "text": [
      "Enter 1 to display books\n",
      "Enter 2 to lend a book\n",
      "Enter 3 to return a book\n",
      "Enter 4 to quit\n",
      "1\n",
      "Available books in library are: \n",
      "harry potter\n",
      "monaliza\n",
      "cindrella\n",
      "anabelle\n",
      "Enter 1 to display books\n",
      "Enter 2 to lend a book\n",
      "Enter 3 to return a book\n",
      "Enter 4 to quit\n",
      "2\n",
      "Enter the name of the book you want. monaliza\n",
      "You have now borrowed the book monaliza\n",
      "Enter 1 to display books\n",
      "Enter 2 to lend a book\n",
      "Enter 3 to return a book\n",
      "Enter 4 to quit\n",
      "3\n",
      "Enter the name of the book you wantmonaliza\n",
      "Thankyou for the book\n",
      "Enter 1 to display books\n",
      "Enter 2 to lend a book\n",
      "Enter 3 to return a book\n",
      "Enter 4 to quit\n",
      "4\n"
     ]
    }
   ],
   "source": [
    "class Library:\n",
    "    def __init__(self,list_of_books):\n",
    "        self.available_books=list_of_books\n",
    "    def display(self):\n",
    "        print(\"Available books in library are: \")\n",
    "        for book in self.available_books:\n",
    "            print(book)\n",
    "    def lend_book(self,requested_book):\n",
    "        if requested_book in self.available_books:\n",
    "            print(f\"You have now borrowed the book {requested_book}\")\n",
    "            self.available_books.remove(requested_book)\n",
    "        else:\n",
    "            print(\"We dont have that book\")\n",
    "    def add_book(self,book):\n",
    "        if book in self.available_books:\n",
    "            print(\"We have this book already\")\n",
    "        else:\n",
    "            print(\"Thankyou for the book\")\n",
    "            self.available_books.append(book)\n",
    "class Customer:\n",
    "    def request_book(self):\n",
    "        self.book=input(\"Enter the name of the book you want. \")\n",
    "        return self.book\n",
    "    def return_book(self):\n",
    "        self.book=input(\"Enter the name of the book you want\")\n",
    "        return self.book\n",
    "    \n",
    "library=Library([\"harry potter\",\"monaliza\",\"cindrella\",\"anabelle\"])\n",
    "customer=Customer()\n",
    "\n",
    "while True:\n",
    "    print(\"Enter 1 to display books\")\n",
    "    print(\"Enter 2 to lend a book\")\n",
    "    print(\"Enter 3 to return a book\")\n",
    "    print(\"Enter 4 to quit\")\n",
    "    \n",
    "    uc=int(input())\n",
    "    if uc==1:\n",
    "        library.display()\n",
    "    elif uc==2:\n",
    "        requested_book=customer.request_book()\n",
    "        library.lend_book(requested_book)\n",
    "    elif uc==3:\n",
    "        returned_book=customer.return_book()\n",
    "        library.add_book(returned_book)\n",
    "    elif uc==4:\n",
    "        break;"
   ]
  },
  {
   "cell_type": "code",
   "execution_count": 3,
   "id": "e6369288",
   "metadata": {},
   "outputs": [
    {
     "name": "stdout",
     "output_type": "stream",
     "text": [
      "\n",
      "1 Display Bikes\n",
      "2 Rent a bike\n",
      "3 to quit 1\n",
      "Available bikes in showroom 1200\n",
      "\n",
      "1 Display Bikes\n",
      "2 Rent a bike\n",
      "3 to quit 2\n",
      "Enter the quantity900\n",
      "Total price 1620000\n",
      "Display Bikes 300\n",
      "\n",
      "1 Display Bikes\n",
      "2 Rent a bike\n",
      "3 to quit 3\n"
     ]
    }
   ],
   "source": [
    "class Bikeshop:\n",
    "    def __init__(self,stock):\n",
    "        self.stock=stock\n",
    "    def display(self):\n",
    "        print(\"Available bikes in showroom\",self.stock)\n",
    "    def rentforbike(self,q):\n",
    "        if q < 0:\n",
    "            print(\"Please enter the value greater than zero\")\n",
    "        elif q > self.stock:\n",
    "            print(\"Enter the value less than stock\")\n",
    "        else:\n",
    "            self.stock=self.stock-q\n",
    "            print(\"Total price\",q*1800)\n",
    "            print(\"Display Bikes\",self.stock)\n",
    "while True:\n",
    "    obj=Bikeshop(1200)\n",
    "    uc=int(input('''\n",
    "1 Display Bikes\n",
    "2 Rent a bike\n",
    "3 to quit '''))\n",
    "    if uc==1:\n",
    "        obj.display()\n",
    "    elif uc==2:\n",
    "        n=int(input(\"Enter the quantity\"))\n",
    "        obj.rentforbike(n)\n",
    "    elif uc==3:\n",
    "        break;"
   ]
  },
  {
   "cell_type": "code",
   "execution_count": 4,
   "id": "727998d3",
   "metadata": {},
   "outputs": [
    {
     "name": "stdout",
     "output_type": "stream",
     "text": [
      "Welcome to calculator\n",
      "Enter your first value1\n",
      "Enter your second value2\n",
      "\n",
      "1 Add +\n",
      "2 Subtract -\n",
      "3 Multiply *\n",
      "4 Divide /\n",
      "5 power ** 3\n",
      "2\n"
     ]
    }
   ],
   "source": [
    "print(\"Welcome to calculator\")\n",
    "num=int(input(\"Enter your first value\"))\n",
    "num1=int(input(\"Enter your second value\"))\n",
    "\n",
    "opr=int(input('''\n",
    "1 Add +\n",
    "2 Subtract -\n",
    "3 Multiply *\n",
    "4 Divide /\n",
    "5 power ** '''))\n",
    "if opr==1:\n",
    "    print(num+num1)\n",
    "elif opr==2:\n",
    "    print(num-num1)\n",
    "elif opr==3:\n",
    "    print(num*num1)\n",
    "elif opr==4:\n",
    "    print(num/num1)\n",
    "elif opr==5:\n",
    "    n=int(input(\"Enter your value\"))\n",
    "    print(n**2)\n",
    "    print(\"You have entered your value again because it gives the power of one value at a time \")\n",
    "else:\n",
    "    print(\"Invalid Operations\")"
   ]
  },
  {
   "cell_type": "code",
   "execution_count": 5,
   "id": "c7c2fe1b",
   "metadata": {},
   "outputs": [
    {
     "name": "stdout",
     "output_type": "stream",
     "text": [
      "1\n",
      "2\n",
      "4\n"
     ]
    }
   ],
   "source": [
    "p=[1,2,\"pool\",4,\"top\"]\n",
    "for q in p:\n",
    "    if type(q)==int:\n",
    "        print(q);"
   ]
  },
  {
   "cell_type": "code",
   "execution_count": 7,
   "id": "787f2e6d",
   "metadata": {},
   "outputs": [
    {
     "data": {
      "text/plain": [
       "{'name': 'class', 'poor': 'rich', 'top': 'bottom'}"
      ]
     },
     "execution_count": 7,
     "metadata": {},
     "output_type": "execute_result"
    }
   ],
   "source": [
    "o={\n",
    "    'name':'class',\n",
    "    'poor':'rich'\n",
    "}\n",
    "o\n",
    "s={\n",
    "    'top':'bottom'\n",
    "}\n",
    "o.update(s)\n",
    "o"
   ]
  },
  {
   "cell_type": "code",
   "execution_count": 9,
   "id": "4b404db4",
   "metadata": {},
   "outputs": [
    {
     "name": "stdout",
     "output_type": "stream",
     "text": [
      "257\n"
     ]
    }
   ],
   "source": [
    "d={\n",
    "    \"a\":90,\n",
    "    \"b\":67,\n",
    "    \"c\":100\n",
    "}\n",
    "print(sum(d.values()));"
   ]
  },
  {
   "cell_type": "code",
   "execution_count": 12,
   "id": "35b3c956",
   "metadata": {},
   "outputs": [
    {
     "name": "stdout",
     "output_type": "stream",
     "text": [
      "[6, 7, 8]\n"
     ]
    }
   ],
   "source": [
    "m=[1,2,3,4,5,6,7,8]\n",
    "n=[6,7,8]\n",
    "o=[]\n",
    "for a in m:\n",
    "    for b in n:\n",
    "        if a==b:\n",
    "            o.append(b)\n",
    "print(o);"
   ]
  },
  {
   "cell_type": "code",
   "execution_count": 16,
   "id": "57bd1f51",
   "metadata": {},
   "outputs": [
    {
     "name": "stdout",
     "output_type": "stream",
     "text": [
      "{'man': 1, 'fan': 2, 'band': 3}\n",
      "fan is present in dictionary\n"
     ]
    }
   ],
   "source": [
    "s={\n",
    "    \"man\":1,\n",
    "    \"fan\":2,\n",
    "    \"band\":3\n",
    "}\n",
    "print(s)\n",
    "change_key=\"fan\"\n",
    "if change_key in s:\n",
    "    print(change_key,\"is present in dictionary\")\n",
    "else:\n",
    "    print(change_key,\"is not present in dictionary\")"
   ]
  },
  {
   "cell_type": "code",
   "execution_count": 1,
   "id": "04b90524",
   "metadata": {},
   "outputs": [
    {
     "name": "stdout",
     "output_type": "stream",
     "text": [
      "The first_name is: dua and the last_name is: faria and salary is: 89000\n"
     ]
    }
   ],
   "source": [
    "class Employee:\n",
    "    def __init__(self,first_name,last_name,salary):\n",
    "        self.first_name=first_name\n",
    "        self.last_name=last_name\n",
    "        self.salary=salary\n",
    "    def display(self):\n",
    "        print(f\"The first_name is: {self.first_name} and the last_name is: {self.last_name} and salary is: {self.salary}\")\n",
    "obj=Employee(\"dua\",\"faria\",89000)\n",
    "obj.display()"
   ]
  },
  {
   "cell_type": "code",
   "execution_count": 8,
   "id": "5c4cb969",
   "metadata": {},
   "outputs": [
    {
     "name": "stdout",
     "output_type": "stream",
     "text": [
      "The first_name is: Asad and the last_name is: Lazzat and salary is: 7800\n",
      "The first_name is: Asad and the last_name is: Lazzat and salary is: 7800\n"
     ]
    }
   ],
   "source": [
    "class Employee:\n",
    "    def __init__(self,first_name,last_name,salary):\n",
    "        self.first_name=first_name\n",
    "        self.last_name=last_name\n",
    "        self.salary=salary\n",
    "    def display(self):\n",
    "        print(f\"The first_name is: {self.first_name} and the last_name is: {self.last_name} and salary is: {self.salary}\")\n",
    "    def change_salary(self,increment):\n",
    "        self.salary=increment\n",
    "        \n",
    "obj=Employee(\"Asad\",\"Lazzat\",7800)\n",
    "obj.display()\n",
    "obj.change_salary=(7000)\n",
    "obj.display()"
   ]
  },
  {
   "cell_type": "code",
   "execution_count": null,
   "id": "570f03db",
   "metadata": {},
   "outputs": [],
   "source": []
  }
 ],
 "metadata": {
  "kernelspec": {
   "display_name": "Python 3",
   "language": "python",
   "name": "python3"
  },
  "language_info": {
   "codemirror_mode": {
    "name": "ipython",
    "version": 3
   },
   "file_extension": ".py",
   "mimetype": "text/x-python",
   "name": "python",
   "nbconvert_exporter": "python",
   "pygments_lexer": "ipython3",
   "version": "3.8.8"
  }
 },
 "nbformat": 4,
 "nbformat_minor": 5
}
